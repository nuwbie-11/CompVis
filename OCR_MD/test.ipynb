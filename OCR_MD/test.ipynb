{
 "cells": [
  {
   "cell_type": "code",
   "execution_count": 4,
   "metadata": {},
   "outputs": [],
   "source": [
    "from tensorflow import keras\n",
    "from tensorflow.keras.preprocessing import image\n",
    "import numpy as np"
   ]
  },
  {
   "cell_type": "code",
   "execution_count": 2,
   "metadata": {},
   "outputs": [],
   "source": [
    "model = keras.models.load_model('1JuneClassification')"
   ]
  },
  {
   "cell_type": "code",
   "execution_count": 3,
   "metadata": {},
   "outputs": [],
   "source": [
    "val_dir = \"output/val\"\n",
    "test_images = [\"/50K-samples/30.jpg\",\"/50K-samples/84.jpg\",\"/50K-samples/50.jpg\",\n",
    "               \"/10K-samples/58.jpg\",\"/10K-samples/105.jpg\",\"/10K-samples/73.jpg\",\n",
    "               \"/100K-samples/121.jpg\",\"/100K-samples/80.jpg\",\"/100K-samples/100.jpg\",\n",
    "               ]"
   ]
  },
  {
   "cell_type": "code",
   "execution_count": 5,
   "metadata": {},
   "outputs": [
    {
     "name": "stdout",
     "output_type": "stream",
     "text": [
      "[[0. 0. 1.]]\n",
      "50k\n",
      "[[0. 0. 1.]]\n",
      "50k\n",
      "[[0. 0. 1.]]\n",
      "50k\n",
      "[[0. 1. 0.]]\n",
      "10k\n",
      "[[0. 1. 0.]]\n",
      "10k\n",
      "[[0. 1. 0.]]\n",
      "10k\n",
      "[[1. 0. 0.]]\n",
      "100k\n",
      "[[1. 0. 0.]]\n",
      "100k\n",
      "[[1. 0. 0.]]\n",
      "100k\n"
     ]
    }
   ],
   "source": [
    "\n",
    "for image_path in test_images:\n",
    "    path = val_dir+image_path\n",
    "    img = image.load_img(path, target_size=(150,150))\n",
    "    # imgplot = plt.imshow(img)\n",
    "    x = image.img_to_array(img)\n",
    "    x = np.expand_dims(x, axis=0)\n",
    "\n",
    "    images = np.vstack([x])\n",
    "    classes = model.predict(images, batch_size=10)\n",
    "\n",
    "    # print(fn)\n",
    "    print(classes)\n",
    "    if classes[0][0]==1:\n",
    "        print('100k')\n",
    "    elif classes[0][1]==1:\n",
    "        print('10k')\n",
    "    elif classes[0][2]==1:\n",
    "        print('50k')"
   ]
  },
  {
   "cell_type": "code",
   "execution_count": null,
   "metadata": {},
   "outputs": [],
   "source": []
  }
 ],
 "metadata": {
  "interpreter": {
   "hash": "91e16d1eb4e5a871527385625dc4fc6b9b9a05e0c1494fdecfad246e8970a022"
  },
  "kernelspec": {
   "display_name": "Python 3.8.0 ('compvis')",
   "language": "python",
   "name": "python3"
  },
  "language_info": {
   "codemirror_mode": {
    "name": "ipython",
    "version": 3
   },
   "file_extension": ".py",
   "mimetype": "text/x-python",
   "name": "python",
   "nbconvert_exporter": "python",
   "pygments_lexer": "ipython3",
   "version": "3.8.0"
  },
  "orig_nbformat": 4
 },
 "nbformat": 4,
 "nbformat_minor": 2
}
